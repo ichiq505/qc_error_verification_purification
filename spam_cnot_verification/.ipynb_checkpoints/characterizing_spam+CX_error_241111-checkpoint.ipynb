{
 "cells": [
  {
   "cell_type": "code",
   "execution_count": 1,
   "id": "4a12da50-fd50-48ee-a644-c127f3c81ec4",
   "metadata": {},
   "outputs": [],
   "source": [
    "from qiskit.circuit import QuantumCircuit, QuantumRegister, ClassicalRegister\n",
    "from qiskit_ibm_runtime import QiskitRuntimeService, SamplerV2 as Sampler\n",
    "from qiskit.transpiler.preset_passmanagers import generate_preset_pass_manager\n",
    "\n",
    "from qiskit_aer import AerSimulator\n",
    "from qiskit_ibm_runtime.fake_provider import FakeCusco\n",
    "from qiskit import transpile\n",
    "\n",
    "import numpy as np\n",
    "from datetime import datetime"
   ]
  },
  {
   "cell_type": "code",
   "execution_count": 2,
   "id": "15a4fcc2-0025-4cc8-96d3-d9a4571ebbe9",
   "metadata": {},
   "outputs": [],
   "source": [
    "# Load saved credentials\n",
    "service = QiskitRuntimeService()"
   ]
  },
  {
   "cell_type": "markdown",
   "id": "dcaa56eb-8eaf-4052-904f-c2b4335d45de",
   "metadata": {},
   "source": [
    "## real ibm device"
   ]
  },
  {
   "cell_type": "code",
   "execution_count": null,
   "id": "3f542160-9a75-4ff6-adbb-16634adc727c",
   "metadata": {},
   "outputs": [],
   "source": [
    "def get_count_measx_prepy(prep:int, shots:int, repetition:int, qc, backend) -> int:\n",
    "    error_count = 0\n",
    "    \n",
    "    for rep in range(repetition):\n",
    "        if prep:\n",
    "            qc.x(0)\n",
    "        qc.measure_all()\n",
    "            \n",
    "        isa_circuit = pass_manager.run(qc)\n",
    "            \n",
    "        sampler = Sampler(real_backend)\n",
    "        job = sampler.run([isa_circuit], shots = shots)\n",
    "        result = job.result()[0]\n",
    "        counts = result['__value__']['data'].meas.get_counts()\n",
    "        if '0' not in counts.keys():\n",
    "            counts['0'] = 0\n",
    "        if '1' not in counts.keys():\n",
    "            counts['1'] = 0\n",
    "        \n",
    "        error_count = error_count + counts\n",
    "\n",
    "    # if statistics such as std, min, or max are requested??: return type should be modified\n",
    "    \n",
    "    return error_count\n",
    "\n",
    "def get_readout_assignment_error(shots:list[int], repetition:list[int], qubit_index, backend) -> float:\n",
    "    readout_assignment_error = 0\n",
    "\n",
    "    qr = QuantumRegister(1)\n",
    "    qc = QuantumCircuit(qr)\n",
    "\n",
    "    error_count = [0,0] # [meas1prep0, meas0prep1]\n",
    "    for bit in range(2):\n",
    "        error_count[bit] = get_count_measx_prepy(prep? = bit, shots[bit], repetition[bit], backend_name, qubit_index)\n",
    "    \n",
    "#    if numbers of preparation differ?: #do not consider now...\n",
    "#        readout_assignment_error = sum(error_count) / sum(shots)\n",
    "\n",
    "    return readout_assignment_error"
   ]
  },
  {
   "cell_type": "code",
   "execution_count": null,
   "id": "9d872f46-d31f-4d16-a2ef-22e4ed6a1016",
   "metadata": {},
   "outputs": [
    {
     "name": "stdout",
     "output_type": "stream",
     "text": [
      "chosen device: ibm_strasbourg\n",
      "chosen qubits: [62]\n",
      "#shots: 5000 #repetition: 5\n",
      "prep0:\n",
      "{'0': 4860, '1': 140}\n",
      "{'0': 4882, '1': 118}\n",
      "{'0': 4877, '1': 123}\n",
      "{'0': 4867, '1': 133}\n",
      "{'0': 4893, '1': 107}\n",
      "prep1:\n",
      "{'1': 4726, '0': 274}\n",
      "{'1': 4748, '0': 252}\n",
      "{'1': 4723, '0': 277}\n",
      "{'1': 4750, '0': 250}\n",
      "{'1': 4740, '0': 260}\n"
     ]
    }
   ],
   "source": [
    "real_backend = service.least_busy()\n",
    "#pass_manager = generate_preset_pass_manager(optimization_level=0, backend=backend, initial_layout = [43,42,34,44,41,24,45]) # initial_layout=[], layout_method='trivial'\n",
    "\n",
    "backend_prop = real_backend.properties().to_dict()\n",
    "initial_layout = [62,61,72,63,60,81,64]\n",
    "\n",
    "shots = 5000\n",
    "\n",
    "RR = 5\n",
    "\n",
    "num_target = 0\n",
    "\n",
    "print(\"chosen device:\",backend_prop['backend_name'])\n",
    "print(\"chosen qubits:\", initial_layout[0:num_target+1])\n",
    "print(\"#shots:\",shots,\"#repetition:\",RR)\n",
    "\n",
    "#distilled_results = np.zeros((RR,M*N,3))\n",
    "real_all_counts = [{'pad':0}]\n",
    "\n",
    "pass_manager = generate_preset_pass_manager(optimization_level=0, backend=real_backend, initial_layout = [initial_layout[0]])\n",
    "for rr in range(RR):\n",
    "\n",
    "    qr = QuantumRegister(1)\n",
    "    \n",
    "    qc = QuantumCircuit(qr)\n",
    "\n",
    "    qc.measure_all()\n",
    "    \n",
    "    isa_circuit = pass_manager.run(qc)\n",
    "    \n",
    "    sampler = Sampler(real_backend)\n",
    "    job = sampler.run([isa_circuit], shots = shots)\n",
    "    result = job.result()[0]\n",
    "    ##print(result['__value__']['data'].meas.get_counts())\n",
    "    counts = result['__value__']['data'].meas.get_counts()\n",
    "    if '0' not in counts.keys():\n",
    "        counts['0'] = 0\n",
    "    if '1' not in counts.keys():\n",
    "        counts['1'] = 0\n",
    "    \n",
    "    real_all_counts.append(counts)\n",
    "    \n",
    "    #print(rr)#, 'counts: ', counts)\n",
    "        \n",
    "real_all_counts = real_all_counts[1:]\n",
    "print('prep0:')\n",
    "for cc in real_all_counts:\n",
    "    print(cc)\n",
    "\n",
    "\n",
    "real_all_counts_x = [{'pad':0}]\n",
    "\n",
    "pass_manager = generate_preset_pass_manager(optimization_level=0, backend=real_backend, initial_layout = [initial_layout[0]])\n",
    "for rr in range(RR):\n",
    "\n",
    "    qr = QuantumRegister(1)\n",
    "    \n",
    "    qc = QuantumCircuit(qr)\n",
    "\n",
    "    qc.x(0)\n",
    "    \n",
    "    qc.measure_all()\n",
    "    \n",
    "    isa_circuit = pass_manager.run(qc)\n",
    "    \n",
    "    sampler = Sampler(real_backend)\n",
    "    job = sampler.run([isa_circuit], shots = shots)\n",
    "    result = job.result()[0]\n",
    "    ##print(result['__value__']['data'].meas.get_counts())\n",
    "    counts = result['__value__']['data'].meas.get_counts()\n",
    "    if '0' not in counts.keys():\n",
    "        counts['0'] = 0\n",
    "    if '1' not in counts.keys():\n",
    "        counts['1'] = 0\n",
    "    \n",
    "    real_all_counts_x.append(counts)\n",
    "    \n",
    "    #print(rr)#, 'counts: ', counts)\n",
    "        \n",
    "real_all_counts_x = real_all_counts_x[1:]\n",
    "print('prep1:')\n",
    "for cc in real_all_counts_x:\n",
    "    print(cc)"
   ]
  },
  {
   "cell_type": "markdown",
   "id": "451f3dbd-02f6-45ed-a2ee-85b128393eb6",
   "metadata": {},
   "source": [
    "### statistical analysis"
   ]
  },
  {
   "cell_type": "code",
   "execution_count": 26,
   "id": "03117e34-cc72-4a09-b025-01fa2afc90dc",
   "metadata": {},
   "outputs": [
    {
     "name": "stdout",
     "output_type": "stream",
     "text": [
      "big-endian encoding\n",
      "62 {'0': 0.97516, '1': 0.02484}\n",
      "62 {'0': 0.05252, '1': 0.9474800000000001}\n"
     ]
    }
   ],
   "source": [
    "#for cc in sim_all_counts:\n",
    "#    print(cc['00']/shots,cc['10']/shots,cc['01']/shots,cc['11']/shots)\n",
    "\n",
    "real_prob_data = {}\n",
    "real_prob_data_x = {}\n",
    "\n",
    "probs = {'0':0,'1':0}\n",
    "probs_x = {'0':0,'1':0}\n",
    "for rr in range(RR):\n",
    "    for outcome in probs.keys():\n",
    "        probs[outcome] += real_all_counts[rr][outcome[-1::-1]] / RR / shots\n",
    "        probs_x[outcome] += real_all_counts_x[rr][outcome[-1::-1]] / RR / shots\n",
    "#real_prob_data.append(probs)\n",
    "real_prob_data[initial_layout[0]] = probs\n",
    "real_prob_data_x[initial_layout[0]] = probs_x\n",
    "        \n",
    "    \n",
    "print(\"big-endian encoding\") # IBM qn ... q1 q0 => q0 q1 ... qn\n",
    "for qubit, freq in real_prob_data.items():\n",
    "    print(qubit, freq)\n",
    "for qubit, freq in real_prob_data_x.items():\n",
    "    print(qubit, freq)"
   ]
  },
  {
   "cell_type": "markdown",
   "id": "e910611f-8710-4892-9fe8-722292e6ba22",
   "metadata": {},
   "source": [
    "### Backend Properties"
   ]
  },
  {
   "cell_type": "code",
   "execution_count": 29,
   "id": "2aaf66b9-95b7-405f-85a6-7f0fa62f77fe",
   "metadata": {},
   "outputs": [
    {
     "name": "stdout",
     "output_type": "stream",
     "text": [
      "Backend name: ibm_strasbourg\n",
      "Last calibrated date: 2024-11-04 10:58:07+09:00\n",
      "========================================================================================\n",
      "qubit 62 | readout_error (%): 0.050899999999999945\n",
      "qubit 62 | prep0_meas1 (%): 0.047\n",
      "qubit 62 | prep1_meas0 (%): 0.05479999999999996\n",
      "qubit 62 | id_error (%): 0.0003977075415263361\n",
      "qubit 62 | rz_error (%): 0\n",
      "qubit 62 | sx_error (%): 0.0003977075415263361\n",
      "qubit 62 | x_error (%): 0.0003977075415263361\n"
     ]
    }
   ],
   "source": [
    "print(\"Backend name:\", backend_prop['backend_name'])\n",
    "print(\"Last calibrated date:\", backend_prop['last_update_date'])\n",
    "for qq in range(num_target+1):\n",
    "    print(\"========================================================================================\")\n",
    "    print(\"qubit\",initial_layout[qq],\"| readout_error (%):\", backend_prop['qubits'][initial_layout[qq]][4]['value'])\n",
    "    print(\"qubit\",initial_layout[qq],\"| prep0_meas1 (%):\", backend_prop['qubits'][initial_layout[qq]][6]['value'])\n",
    "    print(\"qubit\",initial_layout[qq],\"| prep1_meas0 (%):\", backend_prop['qubits'][initial_layout[qq]][5]['value'])\n",
    "    print(\"qubit\",backend_prop['gates'][initial_layout[qq]]['qubits'][0],\"| id_error (%):\", backend_prop['gates'][initial_layout[qq]]['parameters'][0]['value'])\n",
    "    print(\"qubit\",backend_prop['gates'][initial_layout[qq]+127]['qubits'][0],\"| rz_error (%):\", backend_prop['gates'][initial_layout[qq]+127]['parameters'][0]['value'])\n",
    "    print(\"qubit\",backend_prop['gates'][initial_layout[qq]+127*2]['qubits'][0],\"| sx_error (%):\", backend_prop['gates'][initial_layout[qq]+127*2]['parameters'][0]['value'])\n",
    "    print(\"qubit\",backend_prop['gates'][initial_layout[qq]+127*2+127]['qubits'][0],\"| x_error (%):\", backend_prop['gates'][initial_layout[qq]+127*2+127]['parameters'][0]['value'])\n",
    "\n",
    "    if qq > 0:\n",
    "        for ecr_spec in backend_prop['gates'][127*4:]:\n",
    "            if (initial_layout[0] in ecr_spec['qubits']) and (initial_layout[qq] in ecr_spec['qubits']):\n",
    "                print(\"qubits\", ecr_spec['qubits'],\"| ecr_error (%):\",ecr_spec['parameters'][0]['value'])\n",
    "                \n",
    "# 'qubits' : [qubit_idx][T1(us),T2(us),frequency(GHz),anharmonicity(GHz),readout_error,prob_meas0_prep1,prob_meas1_prep0,readout_length(ns)]{'date','name','unit','value'}\n",
    "# 'gates' : [id,rz,sx,x,ecr]{'qubits','gate','parameters'[0]{'name','value'}}"
   ]
  },
  {
   "cell_type": "markdown",
   "id": "e87e5758-7d1b-49ff-b8a3-c1dd3f24ea73",
   "metadata": {},
   "source": [
    "## Solve equations to get error parameters\n",
    "\n",
    "The probabilities from measurement experiments can be seen as functions of three error parameters $f,q$ and $\\epsilon$. So, we can solve the series of equations for known probabilities $p(ij)$.\n",
    "\n",
    "$$p(00) = (1-\\epsilon)\\left[f^2 (1-q)^2 + (1-f)^2 q^2 + f(1-f)(1-q)q  + (1-f)^2 q(1-q) + (1-f)fq^2\\right] + \\epsilon/4 $$\n",
    "$$p(01) = (1-\\epsilon)\\left[f^2 (1-q)q + (1-f)^2 q^2 + f(1-f)(1-q)^2  + (1-f)^2 q^2 + (1-f)fq(1-q)\\right] + \\epsilon/4 $$\n",
    "$$p(10) = (1-\\epsilon)\\left[f^2 q(1-q) + (1-f)^2 (1-q)q + f(1-f)q^2  + (1-f)^2 (1-q)^2 + (1-f)f(1-q)q\\right] + \\epsilon/4 $$\n",
    "$$p(11) = (1-\\epsilon)\\left[f^2 q^2 + (1-f)^2 (1-q)^2 + f(1-f) q(1-q)  + (1-f)^2 (1-q)q + (1-f)f(1-q)^2\\right] + \\epsilon/4 $$"
   ]
  },
  {
   "cell_type": "code",
   "execution_count": 63,
   "id": "5e73cf3e-fe05-46f0-9e06-c90338acb061",
   "metadata": {
    "scrolled": true
   },
   "outputs": [
    {
     "name": "stdout",
     "output_type": "stream",
     "text": [
      "61 {'00': 0.9835333333333335, '01': 0.005913333333333332, '10': 0.006973333333333332, '11': 0.003579999999999999}\n",
      "(1-f,q,e) = [ 0.00796449 -0.99449949  1.14254831]\n",
      "72 {'00': 0.9176600000000001, '01': 0.07110666666666667, '10': 0.0077800000000000005, '11': 0.003453333333333333}\n",
      "(1-f,q,e) = [ 0.01031037 -0.83577618  1.15734448]\n",
      "63 {'00': 0.9565999999999999, '01': 0.03078, '10': 0.007346666666666665, '11': 0.005273333333333332}\n",
      "(1-f,q,e) = [0.11398513 0.49085597 2.1982331 ]\n"
     ]
    }
   ],
   "source": [
    "from scipy.optimize import root\n",
    "\n",
    "def equations(X,P):\n",
    "    return [(1-X[2])*((X[0]**2)*(X[1]**2)+((1-X[0])**2)*((1-X[1])**2)+X[0]*(1-X[0])*X[1]*(1-X[1])+((1-X[0])**2)*(1-X[1])*X[1]+(1-X[0])*X[0]*((1-X[1])**2))+X[2]/4-P['11'],\n",
    "        (1-X[2])*((X[0]**2)*(1-X[1])*X[1]+((1-X[0])**2)*(1-X[1])*X[1]+X[0]*(1-X[0])*(X[1]**2)+((1-X[0])**2)*((1-X[1])**2)+(1-X[0])*X[0]*(1-X[1])*X[1])+X[2]/4-P['10'],\n",
    "        (1-X[2])*((X[0]**2)*(1-X[1])*X[1]+((1-X[0])**2)*(X[1]**2)+X[0]*(1-X[0])*((1-X[1])**2)+((1-X[0])**2)*(X[1]**2)+(1-X[0])*X[0]*(1-X[1])*X[1])+X[2]/4-P['01']]#,\n",
    "        #(1-X[2])*((X[0]**2)*((1-X[1])**2)+((1-X[0])**2)*(X[1]**2)+X[0]*(1-X[0])*(1-X[1])*X[1]+((1-X[0])**2)*X[1]*(1-X[1])+(1-X[0])*X[0]*(X[1]**2))+X[2]/4-P['00']]\n",
    "\n",
    "for qubit, freq in real_prob_data.items():\n",
    "    #probs = [freq['00'],freq['01'],freq['10'],freq['11']]\n",
    "    print(qubit, freq)\n",
    "    solution = root(equations, [0,0,0], args=freq)\n",
    "    print(\"(1-f,q,e) =\", solution.x)\n"
   ]
  },
  {
   "cell_type": "markdown",
   "id": "e9da8e20-f4c9-4297-8af1-50a2176e4f59",
   "metadata": {},
   "source": [
    "### Results from MATLAB.fsolve\n",
    "\n",
    "System qubit = 62,\n",
    "\n",
    "target qubit = 61: $(1-f,q,\\epsilon) = (-0.0011, 0.0024, 0.0185)$\n",
    "\n",
    "target qubit = 72: $(1-f,q,\\epsilon) = (0.0648, 0.0692, -0.3035)$\n",
    "\n",
    "target qubit = 63: $(1-f,q,\\epsilon) = (0.0240, 0.0262, -0.0805)$"
   ]
  }
 ],
 "metadata": {
  "kernelspec": {
   "display_name": "Python 3 (ipykernel)",
   "language": "python",
   "name": "python3"
  },
  "language_info": {
   "codemirror_mode": {
    "name": "ipython",
    "version": 3
   },
   "file_extension": ".py",
   "mimetype": "text/x-python",
   "name": "python",
   "nbconvert_exporter": "python",
   "pygments_lexer": "ipython3",
   "version": "3.11.9"
  }
 },
 "nbformat": 4,
 "nbformat_minor": 5
}
