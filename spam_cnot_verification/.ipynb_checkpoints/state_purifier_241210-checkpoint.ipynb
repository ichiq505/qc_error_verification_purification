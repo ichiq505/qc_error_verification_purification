{
 "cells": [
  {
   "cell_type": "code",
   "execution_count": 17,
   "id": "4a12da50-fd50-48ee-a644-c127f3c81ec4",
   "metadata": {},
   "outputs": [],
   "source": [
    "from qiskit.circuit import QuantumCircuit, QuantumRegister, ClassicalRegister\n",
    "from qiskit_ibm_runtime import Session, QiskitRuntimeService, SamplerV2 as Sampler\n",
    "from qiskit.transpiler import preset_passmanagers, PassManagerConfig\n",
    "from qiskit.transpiler.preset_passmanagers import generate_preset_pass_manager, level_0_pass_manager\n",
    "\n",
    "from qiskit_aer import AerSimulator\n",
    "from qiskit_ibm_runtime.fake_provider import FakeCusco\n",
    "from qiskit import transpile\n",
    "\n",
    "from datetime import datetime\n",
    "import numpy as np"
   ]
  },
  {
   "cell_type": "markdown",
   "id": "76b72f3a-6208-41be-bff8-6935a5197b22",
   "metadata": {},
   "source": [
    "# API tokens for IBM Quantum Platform. Updated on 04-Dec-2024.\n",
    "## KQC_Pharmcadd\n",
    "### ibm-q-kqc / pharcadd / research OR ibm-q / open / main\n",
    "token = 'e2b36571a4a8ed3720a30c8d7b2d59b55347beebe48614832e74a156a3669e6179d306b2ff3727f08ef95b99c1166add2a774e80fff85405abe38a0da1eb1c8c'\n",
    "\n",
    "instances = [marrakesh, fez (156), torino (133), brussels, nazca, strasbourg, {kyiv, brisbane, sherbrooke} (127)]\n",
    "\n",
    "## my account: ichi@kaist\n",
    "### ibm-q-skku / kaist / kaist-graduate OR ibm-q / open / main\n",
    "token = '23b4b9e4f3507d73dd25691b5b96bc6a70ab7798ea6821b91db525151323338264a62e5adfff61edb604f62fcaa51a4484a54450bb239b8c52e8d1ccd76344c2'\n",
    "\n",
    "instances = [marrakesh, fez (156), torino (133), brussels, nazca, strasbourg, {kyiv, brisbane, sherbrooke} (127)]\n",
    "\n",
    "Usage limits (open): Monthly usage is limited up to 10 minutes, refreshes on the first of each month. At most 3 pending workloads at a time."
   ]
  },
  {
   "cell_type": "code",
   "execution_count": 39,
   "id": "75b7978b-b7f5-4ee1-adc0-95fd22cf291d",
   "metadata": {},
   "outputs": [],
   "source": [
    "# Show the list of the saved accounts\n",
    "saved_accounts = QiskitRuntimeService.saved_accounts()\n",
    "\n",
    "#for key, value in saved_accounts.items():\n",
    "#    print(key, value)"
   ]
  },
  {
   "cell_type": "code",
   "execution_count": 40,
   "id": "15a4fcc2-0025-4cc8-96d3-d9a4571ebbe9",
   "metadata": {},
   "outputs": [],
   "source": [
    "# Load account and generate QiskitRuntimeService\n",
    "default_account = saved_accounts['kaist_ichi9505']\n",
    "service = QiskitRuntimeService(channel=default_account['channel'],token=default_account['token'])"
   ]
  },
  {
   "cell_type": "markdown",
   "id": "368450d0-af5b-4b6a-8b52-ffc58ada04d7",
   "metadata": {},
   "source": [
    "# State purification"
   ]
  },
  {
   "cell_type": "code",
   "execution_count": 60,
   "id": "141b9c3b-f9c5-455e-8a4a-bcb4e3a32bd0",
   "metadata": {},
   "outputs": [],
   "source": [
    "def state_purifier(num_add, max_add):\n",
    "\n",
    "    qr = QuantumRegister(1+max_add,name='SP_Puri')\n",
    "    cr = ClassicalRegister(1+num_add,name='MEAS')\n",
    "    qc = QuantumCircuit(qr,cr,name='PURIFIER')\n",
    "    \n",
    "    if (num_add>0):               # purification is applied\n",
    "        for target in range(num_add): # anc = 1,...,n\n",
    "            qc.cx(qr[0],qr[1+target])\n",
    "    qc.barrier(qr)\n",
    "    qc.measure(qr[:1+num_add],cr)\n",
    "        \n",
    "    return qc\n",
    "\n",
    "def distiller(counts,num_add,ismonitor): # counts in little-endian\n",
    "    test_dict = {}\n",
    "    distilled_count = [0, 0] # [ #accepted states, #outcome'0' ]\n",
    "    for outcome, count in counts.items():\n",
    "        if (num_add==0) | ((num_add>0) & (outcome[-1:0:-1] == ('0'*num_add))): # outcomes of additional qubits are all zero.\n",
    "            distilled_count[0] += count\n",
    "            if outcome[-1] == '0':\n",
    "                distilled_count[1] += count\n",
    "            if ismonitor:\n",
    "                test_dict[outcome] = count\n",
    "    if ismonitor:\n",
    "        print('distiller monitor: (',num_add,')',test_dict)\n",
    "    return distilled_count"
   ]
  },
  {
   "cell_type": "markdown",
   "id": "dcaa56eb-8eaf-4052-904f-c2b4335d45de",
   "metadata": {},
   "source": [
    "## conduct quantum experiments on ibm backend : state purification"
   ]
  },
  {
   "cell_type": "code",
   "execution_count": 41,
   "id": "80c510af-be48-472e-b263-4ec766a59bca",
   "metadata": {},
   "outputs": [
    {
     "name": "stdout",
     "output_type": "stream",
     "text": [
      "ibm_kyiv\n"
     ]
    }
   ],
   "source": [
    "### set instructions for experiments\n",
    "backend = service.least_busy()\n",
    "print(backend.name)"
   ]
  },
  {
   "cell_type": "code",
   "execution_count": 51,
   "id": "b1b01bc2-904d-454f-83e6-0fad4b812cdf",
   "metadata": {
    "editable": true,
    "slideshow": {
     "slide_type": ""
    },
    "tags": []
   },
   "outputs": [],
   "source": [
    "#print(backend.name())\n",
    "#print(initial_layout)\n",
    "#print(shots_per_experiment) #shots\n",
    "#print(repetitions_to_get_stats) #RR\n",
    "\n",
    "initial_layout = [62,61,72,63,60,81,64]\n",
    "shots_per_experiment = 5000\n",
    "repetitions_to_get_stats = 30\n",
    "\n",
    "max_add = 5\n",
    "\n",
    "# CONSTRUCT PURIFIER CIRCUITS #\n",
    "sp_circuits = []\n",
    "for num_add in range(max_add+1):\n",
    "    purifier_size = 1+num_add\n",
    "    qc_puri = state_purifier(num_add,max_add)\n",
    "    sp_circuits.append(qc_puri)"
   ]
  },
  {
   "cell_type": "code",
   "execution_count": null,
   "id": "169340e4-0aef-4e8a-84b0-6e0e8dc52e30",
   "metadata": {
    "editable": true,
    "slideshow": {
     "slide_type": ""
    },
    "tags": []
   },
   "outputs": [],
   "source": [
    "datetime_experiment_purifier = datetime.utcnow()\n",
    "\n",
    "# DISPLAY INFORMATION : backend_name, system_qubit, anc_qubit, shots, reps #\n",
    "print('==============================')\n",
    "print(\"|  Purification experiments  |\")\n",
    "print('------------------------------')\n",
    "print('- date: {} (UTC+00)'.format(datetime_experiment_purifier))\n",
    "print('- backend: {}'.format(backend.name))\n",
    "print('- system: {}'.format(initial_layout[0]))\n",
    "print('- ancilla: {}'.format(initial_layout[1:max_add+1]))\n",
    "print('- # shots: {}'.format(shots_per_experiment))\n",
    "print('- # repetitions: {}'.format(repetitions_to_get_stats))\n",
    "print(\"-+ 'little-endian': qn ... q1 q0\")\n",
    "\n",
    "# SET PASSMANAGER #\n",
    "pm = generate_preset_pass_manager(optimization_level=0, backend=backend, initial_layout=initial_layout[:1+max_add])\n",
    "isa_circuit = [pm.run(qc) for qc in sp_circuits]\n",
    "\n",
    "counts_all_experiments = []\n",
    "with Session(backend=backend) as session:\n",
    "    for num_add in range(max_add+1):\n",
    "        print(\"-+ number of additional qubits: {}\".format(num_add))\n",
    "        for rep in range(repetitions_to_get_stats):\n",
    "            # RUN EXPERIMENT #\n",
    "            sampler = Sampler(session=session)\n",
    "            job = sampler.run([isa_circuit[num_add]], shots = shots_per_experiment)\n",
    "\n",
    "            # SAVE COUNTS #\n",
    "            pub_results = job.result()[0]['__value__']['data']\n",
    "            pub_counts = pub_results.MEAS.get_counts()\n",
    "\n",
    "            bin_list = [bin(i)[2:] for i in range(2**(1+num_add))]\n",
    "            bin_digit_padded_list = ['0'*(1+num_add-len(bn)) + bn for bn in bin_list]\n",
    "            for outcome in bin_digit_padded_list:\n",
    "                if outcome not in pub_counts.keys():\n",
    "                    pub_counts[outcome] = 0\n",
    "                    \n",
    "            counts_all_experiments.append(pub_counts)\n",
    "            # DISPLAY RESULT : rep, counts(little-endian: qr[0] most right) #\n",
    "            print(\"-++ ({0}-th rep.) Done.\".format(rep))\n",
    "\n",
    "print('------------------------------')\n",
    "print(\"|            Done            |\")\n",
    "print('==============================')"
   ]
  },
  {
   "cell_type": "markdown",
   "id": "3e547c29-b6d9-468b-8d47-f36b00cc162d",
   "metadata": {},
   "source": [
    "# State Purification (ibm)"
   ]
  },
  {
   "cell_type": "code",
   "execution_count": 64,
   "id": "7ef51566-434f-4f01-8cb1-da6a426ecf04",
   "metadata": {},
   "outputs": [
    {
     "name": "stdout",
     "output_type": "stream",
     "text": [
      "===============================\n",
      "|  Purification post-process  |\n",
      "-------------------------------\n",
      "- Results\n",
      "------------------------------------------------------------------------------------------\n",
      "n  | avg_prob_accepted    var_prob_accepted    avg_prob0_purified   var_prob0_purified  \n",
      "------------------------------------------------------------------------------------------\n",
      "0  | 1.00000000           0.00000000           0.97955333           0.00001109          \n",
      "1  | 0.97070000           0.00001987           1.00000000           0.00000000          \n",
      "2  | 0.95107333           0.00001330           1.00000000           0.00000000          \n",
      "3  | 0.90899333           0.00006913           1.00000000           0.00000000          \n",
      "4  | 0.81087333           0.00057990           1.00000000           0.00000000          \n",
      "5  | 0.75426667           0.00043902           1.00000000           0.00000000          \n",
      "------------------------------------------------------------------------------------------\n",
      "------------------------------\n",
      "|            Done            |\n",
      "==============================\n"
     ]
    }
   ],
   "source": [
    "distilled_data_all = {'#accepted':[],'#outcome0':[]}\n",
    "prob_succ_all = {'mean':[],'variance':[]}\n",
    "fidelity_purified_all = {'mean':[],'variance':[]}\n",
    "\n",
    "print('===============================')\n",
    "print(\"|  Purification post-process  |\")\n",
    "print('-------------------------------')\n",
    "\n",
    "print('- Results')\n",
    "print('-'*90)\n",
    "print(\"n  | {0:<20} {1:<20} {2:<20} {3:<20}\".format(\n",
    "    'avg_prob_accepted','var_prob_accepted','avg_prob0_purified','var_prob0_purified'))\n",
    "print('-'*90)\n",
    "for num_add in range(max_add+1):\n",
    "    prob_succ = 0\n",
    "    prob_succ_sq = 0\n",
    "    fidelity = 0\n",
    "    fidelity_sq = 0\n",
    "    for rep in range(repetitions_to_get_stats):\n",
    "        idx = num_add*repetitions_to_get_stats + rep\n",
    "        distilled_data = distiller(counts_all_experiments[idx], num_add, False)\n",
    "        distilled_data_all['#accepted'].append(distilled_data[0])\n",
    "        distilled_data_all['#outcome0'].append(distilled_data[1])\n",
    "\n",
    "        prob_succ += distilled_data[0] / shots_per_experiment\n",
    "        prob_succ_sq += (distilled_data[0] / shots_per_experiment) ** 2\n",
    "        fidelity += distilled_data[1] / distilled_data[0]\n",
    "        fidelity_sq += (distilled_data[1] / distilled_data[0]) ** 2\n",
    "        \n",
    "    prob_succ_all['mean'].append(prob_succ / repetitions_to_get_stats)\n",
    "    prob_succ_all['variance'].append(\n",
    "        (prob_succ_sq / repetitions_to_get_stats) - ((prob_succ / repetitions_to_get_stats) ** 2))\n",
    "    fidelity_purified_all['mean'].append(fidelity / repetitions_to_get_stats)\n",
    "    fidelity_purified_all['variance'].append(\n",
    "        (fidelity_sq / repetitions_to_get_stats) - ((fidelity / repetitions_to_get_stats) ** 2))\n",
    "\n",
    "    print(\"{0:<3}| {1:<20.8f} {2:<20.8f} {3:<20.8f} {4:<20.8f}\".format(\n",
    "        num_add, prob_succ_all['mean'][-1], prob_succ_all['variance'][-1], fidelity_purified_all['mean'][-1], fidelity_purified_all['variance'][-1]))\n",
    "\n",
    "print('-'*90)\n",
    "print('------------------------------')\n",
    "print(\"|            Done            |\")\n",
    "print('==============================')"
   ]
  },
  {
   "cell_type": "code",
   "execution_count": null,
   "id": "5e73cf3e-fe05-46f0-9e06-c90338acb061",
   "metadata": {},
   "outputs": [],
   "source": [
    "from scipy.optimize import root\n",
    "\n",
    "def equations(X,P):\n",
    "    return [(1-X[2])*((X[0]**2)*(X[1]**2)+((1-X[0])**2)*((1-X[1])**2)+X[0]*(1-X[0])*X[1]*(1-X[1])+((1-X[0])**2)*(1-X[1])*X[1]+(1-X[0])*X[0]*((1-X[1])**2))+X[2]/4-P['11'],\n",
    "        (1-X[2])*((X[0]**2)*(1-X[1])*X[1]+((1-X[0])**2)*(1-X[1])*X[1]+X[0]*(1-X[0])*(X[1]**2)+((1-X[0])**2)*((1-X[1])**2)+(1-X[0])*X[0]*(1-X[1])*X[1])+X[2]/4-P['10'],\n",
    "        (1-X[2])*((X[0]**2)*(1-X[1])*X[1]+((1-X[0])**2)*(X[1]**2)+X[0]*(1-X[0])*((1-X[1])**2)+((1-X[0])**2)*(X[1]**2)+(1-X[0])*X[0]*(1-X[1])*X[1])+X[2]/4-P['01']]#,\n",
    "        #(1-X[2])*((X[0]**2)*((1-X[1])**2)+((1-X[0])**2)*(X[1]**2)+X[0]*(1-X[0])*(1-X[1])*X[1]+((1-X[0])**2)*X[1]*(1-X[1])+(1-X[0])*X[0]*(X[1]**2))+X[2]/4-P['00']]\n",
    "\n",
    "for qubit, freq in real_prob_data.items():\n",
    "    #probs = [freq['00'],freq['01'],freq['10'],freq['11']]\n",
    "    print(qubit, freq)\n",
    "    solution = root(equations, [0,0,0], args=freq)\n",
    "    print(\"(1-f,q,e) =\", solution.x)\n"
   ]
  },
  {
   "cell_type": "markdown",
   "id": "e9da8e20-f4c9-4297-8af1-50a2176e4f59",
   "metadata": {},
   "source": [
    "### Results from MATLAB.fsolve\n",
    "\n",
    "System qubit = 62,\n",
    "\n",
    "target qubit = 61: $(1-f,q,\\epsilon) = (-0.0011, 0.0024, 0.0185)$\n",
    "\n",
    "target qubit = 72: $(1-f,q,\\epsilon) = (0.0648, 0.0692, -0.3035)$\n",
    "\n",
    "target qubit = 63: $(1-f,q,\\epsilon) = (0.0240, 0.0262, -0.0805)$"
   ]
  }
 ],
 "metadata": {
  "kernelspec": {
   "display_name": "Python 3 (ipykernel)",
   "language": "python",
   "name": "python3"
  },
  "language_info": {
   "codemirror_mode": {
    "name": "ipython",
    "version": 3
   },
   "file_extension": ".py",
   "mimetype": "text/x-python",
   "name": "python",
   "nbconvert_exporter": "python",
   "pygments_lexer": "ipython3",
   "version": "3.11.9"
  }
 },
 "nbformat": 4,
 "nbformat_minor": 5
}
