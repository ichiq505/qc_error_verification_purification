{
 "cells": [
  {
   "cell_type": "code",
   "execution_count": 1,
   "id": "4a12da50-fd50-48ee-a644-c127f3c81ec4",
   "metadata": {},
   "outputs": [],
   "source": [
    "from qiskit.circuit import QuantumCircuit, QuantumRegister, ClassicalRegister\n",
    "from qiskit_ibm_runtime import QiskitRuntimeService, SamplerV2 as Sampler\n",
    "from qiskit.transpiler.preset_passmanagers import generate_preset_pass_manager\n",
    "\n",
    "from qiskit_aer import AerSimulator\n",
    "from qiskit_ibm_runtime.fake_provider import FakeCusco\n",
    "from qiskit import transpile\n",
    "\n",
    "import numpy as np"
   ]
  },
  {
   "cell_type": "code",
   "execution_count": 2,
   "id": "15a4fcc2-0025-4cc8-96d3-d9a4571ebbe9",
   "metadata": {},
   "outputs": [],
   "source": [
    "# Load saved credentials\n",
    "service = QiskitRuntimeService()"
   ]
  },
  {
   "cell_type": "markdown",
   "id": "dcaa56eb-8eaf-4052-904f-c2b4335d45de",
   "metadata": {},
   "source": [
    "## real ibm device"
   ]
  },
  {
   "cell_type": "markdown",
   "id": "7f69447a-27ff-4451-9c78-c0116a1eaaca",
   "metadata": {},
   "source": [
    "matlab fsolve 탑재 -> scipy module 과 matlab fsolve가 사용하는 solver가 달라서 완전 일치하지 않음.\n",
    "\n",
    "backend_properties와 solved parameters 비교 기능 -> 두 값의 차이가 너무 커서... 더 고민 해야할 듯..."
   ]
  },
  {
   "cell_type": "code",
   "execution_count": 6,
   "id": "f47020a2-b9fa-4f7a-8d67-a5fae4fc88fc",
   "metadata": {},
   "outputs": [
    {
     "name": "stdout",
     "output_type": "stream",
     "text": [
      "Backend name: ibm_torino\n"
     ]
    }
   ],
   "source": [
    "from datetime import datetime\n",
    "\n",
    "real_backend = service.least_busy()\n",
    "#pass_manager = generate_preset_pass_manager(optimization_level=0, backend=backend, initial_layout = [43,42,34,44,41,24,45]) # initial_layout=[], layout_method='trivial'\n",
    "\n",
    "backend_prop = real_backend.properties().to_dict()\n",
    "print(\"Backend name:\", backend_prop['backend_name'])"
   ]
  },
  {
   "cell_type": "code",
   "execution_count": 6,
   "id": "255f71a6-958a-4c2b-a36d-bfe64be4df3e",
   "metadata": {},
   "outputs": [
    {
     "name": "stdout",
     "output_type": "stream",
     "text": [
      "[]\n",
      "[1]\n",
      "[1, 2]\n"
     ]
    }
   ],
   "source": [
    "test = [0,1,2,3,4]\n",
    "print(test[1:1])\n",
    "print(test[1:2])\n",
    "print(test[1:3])"
   ]
  },
  {
   "cell_type": "code",
   "execution_count": 8,
   "id": "daada29d-ceec-4f96-9386-2f61674b7c76",
   "metadata": {},
   "outputs": [
    {
     "name": "stdout",
     "output_type": "stream",
     "text": [
      "chosen device: ibm_torino\n",
      "chosen qubits: [63, 62]\n",
      "#shots: 5000 #repetition: 30\n"
     ]
    },
    {
     "ename": "UnboundLocalError",
     "evalue": "cannot access local variable 'frequency' where it is not associated with a value",
     "output_type": "error",
     "traceback": [
      "\u001b[1;31m---------------------------------------------------------------------------\u001b[0m",
      "\u001b[1;31mUnboundLocalError\u001b[0m                         Traceback (most recent call last)",
      "Cell \u001b[1;32mIn[8], line 17\u001b[0m\n\u001b[0;32m     14\u001b[0m real_all_counts \u001b[38;5;241m=\u001b[39m [{\u001b[38;5;124m'\u001b[39m\u001b[38;5;124mpad\u001b[39m\u001b[38;5;124m'\u001b[39m:\u001b[38;5;241m0\u001b[39m}]\n\u001b[0;32m     16\u001b[0m \u001b[38;5;28;01mfor\u001b[39;00m target \u001b[38;5;129;01min\u001b[39;00m initial_layout[\u001b[38;5;241m1\u001b[39m:num_target\u001b[38;5;241m+\u001b[39m\u001b[38;5;241m1\u001b[39m]:\n\u001b[1;32m---> 17\u001b[0m     pass_manager \u001b[38;5;241m=\u001b[39m generate_preset_pass_manager(optimization_level\u001b[38;5;241m=\u001b[39m\u001b[38;5;241m0\u001b[39m, backend\u001b[38;5;241m=\u001b[39mreal_backend, initial_layout \u001b[38;5;241m=\u001b[39m [initial_layout[\u001b[38;5;241m0\u001b[39m], target])\n\u001b[0;32m     18\u001b[0m     \u001b[38;5;28;01mfor\u001b[39;00m rr \u001b[38;5;129;01min\u001b[39;00m \u001b[38;5;28mrange\u001b[39m(RR):\n\u001b[0;32m     20\u001b[0m         qr \u001b[38;5;241m=\u001b[39m QuantumRegister(\u001b[38;5;241m2\u001b[39m)\n",
      "File \u001b[1;32m~\\Anaconda3\\envs\\qiskitone\\Lib\\site-packages\\qiskit\\transpiler\\preset_passmanagers\\generate_preset_pass_manager.py:276\u001b[0m, in \u001b[0;36mgenerate_preset_pass_manager\u001b[1;34m(optimization_level, backend, target, basis_gates, inst_map, coupling_map, instruction_durations, backend_properties, timing_constraints, initial_layout, layout_method, routing_method, translation_method, scheduling_method, approximation_degree, seed_transpiler, unitary_synthesis_method, unitary_synthesis_plugin_config, hls_config, init_method, optimization_method, dt, _skip_target)\u001b[0m\n\u001b[0;32m    268\u001b[0m _skip_target \u001b[38;5;241m=\u001b[39m (\n\u001b[0;32m    269\u001b[0m     target \u001b[38;5;129;01mis\u001b[39;00m \u001b[38;5;28;01mNone\u001b[39;00m\n\u001b[0;32m    270\u001b[0m     \u001b[38;5;129;01mand\u001b[39;00m backend \u001b[38;5;129;01mis\u001b[39;00m \u001b[38;5;28;01mNone\u001b[39;00m\n\u001b[0;32m    271\u001b[0m     \u001b[38;5;129;01mand\u001b[39;00m (basis_gates \u001b[38;5;129;01mis\u001b[39;00m \u001b[38;5;28;01mNone\u001b[39;00m \u001b[38;5;129;01mor\u001b[39;00m coupling_map \u001b[38;5;129;01mis\u001b[39;00m \u001b[38;5;28;01mNone\u001b[39;00m \u001b[38;5;129;01mor\u001b[39;00m instruction_durations \u001b[38;5;129;01mis\u001b[39;00m \u001b[38;5;129;01mnot\u001b[39;00m \u001b[38;5;28;01mNone\u001b[39;00m)\n\u001b[0;32m    272\u001b[0m )\n\u001b[0;32m    274\u001b[0m \u001b[38;5;66;03m# Resolve loose constraints case-by-case against backend constraints.\u001b[39;00m\n\u001b[0;32m    275\u001b[0m \u001b[38;5;66;03m# The order of priority is loose constraints > backend.\u001b[39;00m\n\u001b[1;32m--> 276\u001b[0m dt \u001b[38;5;241m=\u001b[39m _parse_dt(dt, backend)\n\u001b[0;32m    277\u001b[0m instruction_durations \u001b[38;5;241m=\u001b[39m _parse_instruction_durations(backend, instruction_durations, dt)\n\u001b[0;32m    278\u001b[0m timing_constraints \u001b[38;5;241m=\u001b[39m _parse_timing_constraints(backend, timing_constraints)\n",
      "File \u001b[1;32m~\\Anaconda3\\envs\\qiskitone\\Lib\\site-packages\\qiskit\\transpiler\\preset_passmanagers\\generate_preset_pass_manager.py:453\u001b[0m, in \u001b[0;36m_parse_dt\u001b[1;34m(dt, backend)\u001b[0m\n\u001b[0;32m    450\u001b[0m \u001b[38;5;28;01mdef\u001b[39;00m \u001b[38;5;21m_parse_dt\u001b[39m(dt, backend):\n\u001b[0;32m    451\u001b[0m     \u001b[38;5;66;03m# try getting dt from user, else backend\u001b[39;00m\n\u001b[0;32m    452\u001b[0m     \u001b[38;5;28;01mif\u001b[39;00m dt \u001b[38;5;129;01mis\u001b[39;00m \u001b[38;5;28;01mNone\u001b[39;00m \u001b[38;5;129;01mand\u001b[39;00m backend \u001b[38;5;129;01mis\u001b[39;00m \u001b[38;5;129;01mnot\u001b[39;00m \u001b[38;5;28;01mNone\u001b[39;00m:\n\u001b[1;32m--> 453\u001b[0m         dt \u001b[38;5;241m=\u001b[39m backend\u001b[38;5;241m.\u001b[39mtarget\u001b[38;5;241m.\u001b[39mdt\n\u001b[0;32m    454\u001b[0m     \u001b[38;5;28;01mreturn\u001b[39;00m dt\n",
      "File \u001b[1;32m~\\Anaconda3\\envs\\qiskitone\\Lib\\site-packages\\qiskit_ibm_runtime\\ibm_backend.py:336\u001b[0m, in \u001b[0;36mIBMBackend.target\u001b[1;34m(self)\u001b[0m\n\u001b[0;32m    334\u001b[0m \u001b[38;5;28mself\u001b[39m\u001b[38;5;241m.\u001b[39m_get_properties()\n\u001b[0;32m    335\u001b[0m \u001b[38;5;28mself\u001b[39m\u001b[38;5;241m.\u001b[39m_get_defaults()\n\u001b[1;32m--> 336\u001b[0m \u001b[38;5;28mself\u001b[39m\u001b[38;5;241m.\u001b[39m_convert_to_target()\n\u001b[0;32m    337\u001b[0m \u001b[38;5;28;01mreturn\u001b[39;00m \u001b[38;5;28mself\u001b[39m\u001b[38;5;241m.\u001b[39m_target\n",
      "File \u001b[1;32m~\\Anaconda3\\envs\\qiskitone\\Lib\\site-packages\\qiskit_ibm_runtime\\ibm_backend.py:263\u001b[0m, in \u001b[0;36mIBMBackend._convert_to_target\u001b[1;34m(self, refresh)\u001b[0m\n\u001b[0;32m    261\u001b[0m \u001b[38;5;250m\u001b[39m\u001b[38;5;124;03m\"\"\"Converts backend configuration, properties and defaults to Target object\"\"\"\u001b[39;00m\n\u001b[0;32m    262\u001b[0m \u001b[38;5;28;01mif\u001b[39;00m refresh \u001b[38;5;129;01mor\u001b[39;00m \u001b[38;5;129;01mnot\u001b[39;00m \u001b[38;5;28mself\u001b[39m\u001b[38;5;241m.\u001b[39m_target:\n\u001b[1;32m--> 263\u001b[0m     \u001b[38;5;28mself\u001b[39m\u001b[38;5;241m.\u001b[39m_target \u001b[38;5;241m=\u001b[39m convert_to_target(\n\u001b[0;32m    264\u001b[0m         configuration\u001b[38;5;241m=\u001b[39m\u001b[38;5;28mself\u001b[39m\u001b[38;5;241m.\u001b[39m_configuration,\n\u001b[0;32m    265\u001b[0m         properties\u001b[38;5;241m=\u001b[39m\u001b[38;5;28mself\u001b[39m\u001b[38;5;241m.\u001b[39m_properties,\n\u001b[0;32m    266\u001b[0m         defaults\u001b[38;5;241m=\u001b[39m\u001b[38;5;28mself\u001b[39m\u001b[38;5;241m.\u001b[39m_defaults,\n\u001b[0;32m    267\u001b[0m     )\n",
      "File \u001b[1;32m~\\Anaconda3\\envs\\qiskitone\\Lib\\site-packages\\qiskit_ibm_runtime\\utils\\backend_converter.py:72\u001b[0m, in \u001b[0;36mconvert_to_target\u001b[1;34m(configuration, properties, defaults)\u001b[0m\n\u001b[0;32m     70\u001b[0m \u001b[38;5;28;01mif\u001b[39;00m properties \u001b[38;5;129;01mis\u001b[39;00m \u001b[38;5;129;01mnot\u001b[39;00m \u001b[38;5;28;01mNone\u001b[39;00m:\n\u001b[0;32m     71\u001b[0m     faulty_qubits \u001b[38;5;241m=\u001b[39m \u001b[38;5;28mset\u001b[39m(properties\u001b[38;5;241m.\u001b[39mfaulty_qubits())\n\u001b[1;32m---> 72\u001b[0m     qubit_properties \u001b[38;5;241m=\u001b[39m qubit_props_list_from_props(properties\u001b[38;5;241m=\u001b[39mproperties)\n\u001b[0;32m     73\u001b[0m     target \u001b[38;5;241m=\u001b[39m Target(num_qubits\u001b[38;5;241m=\u001b[39mconfiguration\u001b[38;5;241m.\u001b[39mn_qubits, qubit_properties\u001b[38;5;241m=\u001b[39mqubit_properties)\n\u001b[0;32m     74\u001b[0m     \u001b[38;5;66;03m# Parse instructions\u001b[39;00m\n",
      "File \u001b[1;32m~\\Anaconda3\\envs\\qiskitone\\Lib\\site-packages\\qiskit_ibm_runtime\\utils\\backend_converter.py:199\u001b[0m, in \u001b[0;36mqubit_props_list_from_props\u001b[1;34m(properties)\u001b[0m\n\u001b[0;32m    193\u001b[0m     \u001b[38;5;28;01mexcept\u001b[39;00m \u001b[38;5;167;01mException\u001b[39;00m:  \u001b[38;5;66;03m# pylint: disable=broad-except\u001b[39;00m\n\u001b[0;32m    194\u001b[0m         anharmonicity \u001b[38;5;241m=\u001b[39m \u001b[38;5;28;01mNone\u001b[39;00m\n\u001b[0;32m    195\u001b[0m     qubit_props\u001b[38;5;241m.\u001b[39mappend(\n\u001b[0;32m    196\u001b[0m         IBMQubitProperties(  \u001b[38;5;66;03m# type: ignore[no-untyped-call]\u001b[39;00m\n\u001b[0;32m    197\u001b[0m             t1\u001b[38;5;241m=\u001b[39mt_1,\n\u001b[0;32m    198\u001b[0m             t2\u001b[38;5;241m=\u001b[39mt_2,\n\u001b[1;32m--> 199\u001b[0m             frequency\u001b[38;5;241m=\u001b[39mfrequency,\n\u001b[0;32m    200\u001b[0m             anharmonicity\u001b[38;5;241m=\u001b[39manharmonicity,\n\u001b[0;32m    201\u001b[0m         )\n\u001b[0;32m    202\u001b[0m     )\n\u001b[0;32m    203\u001b[0m \u001b[38;5;28;01mreturn\u001b[39;00m qubit_props\n",
      "\u001b[1;31mUnboundLocalError\u001b[0m: cannot access local variable 'frequency' where it is not associated with a value"
     ]
    }
   ],
   "source": [
    "initial_layout = [63,62,73,64,61,82,65]\n",
    "\n",
    "shots = 5000\n",
    "\n",
    "RR = 30\n",
    "\n",
    "num_target = 1\n",
    "\n",
    "print(\"chosen device:\",backend_prop['backend_name'])\n",
    "print(\"chosen qubits:\", initial_layout[0:num_target+1])\n",
    "print(\"#shots:\",shots,\"#repetition:\",RR)\n",
    "\n",
    "#distilled_results = np.zeros((RR,M*N,3))\n",
    "real_all_counts = [{'pad':0}]\n",
    "\n",
    "for target in initial_layout[1:num_target+1]:\n",
    "    pass_manager = generate_preset_pass_manager(optimization_level=0, backend=real_backend, initial_layout = [initial_layout[0], target])\n",
    "    for rr in range(RR):\n",
    "\n",
    "        qr = QuantumRegister(2)\n",
    "        \n",
    "        qc = QuantumCircuit(qr)\n",
    "        \n",
    "        qc.cx(0,1)\n",
    "        qc.measure_all()\n",
    "        \n",
    "        isa_circuit = pass_manager.run(qc)\n",
    "        \n",
    "        sampler = Sampler(real_backend)\n",
    "        job = sampler.run([isa_circuit], shots = shots)\n",
    "        result = job.result()\n",
    "        print(result)\n",
    "        #print(result['__value__']['data'].meas.get_counts())\n",
    "        counts = result['__value__']['data'].meas.get_counts()\n",
    "        if '00' not in counts.keys():\n",
    "            counts['00'] = 0\n",
    "        if '01' not in counts.keys():\n",
    "            counts['01'] = 0\n",
    "        if '10' not in counts.keys():\n",
    "            counts['10'] = 0\n",
    "        if '11' not in counts.keys():\n",
    "            counts['11'] = 0\n",
    "        \n",
    "        real_all_counts.append(counts)\n",
    "        \n",
    "        print(target,rr, 'counts: ', counts)\n",
    "        \n",
    "real_all_counts = real_all_counts[1:]\n",
    "for cc in real_all_counts:\n",
    "    print(cc)"
   ]
  },
  {
   "cell_type": "markdown",
   "id": "451f3dbd-02f6-45ed-a2ee-85b128393eb6",
   "metadata": {},
   "source": [
    "### statistical analysis"
   ]
  },
  {
   "cell_type": "code",
   "execution_count": 8,
   "id": "03117e34-cc72-4a09-b025-01fa2afc90dc",
   "metadata": {},
   "outputs": [
    {
     "name": "stdout",
     "output_type": "stream",
     "text": [
      "big-endian encoding\n",
      "61 {'00': 0.9835333333333335, '01': 0.005913333333333332, '10': 0.006973333333333332, '11': 0.003579999999999999}\n",
      "72 {'00': 0.9176600000000001, '01': 0.07110666666666667, '10': 0.0077800000000000005, '11': 0.003453333333333333}\n",
      "63 {'00': 0.9565999999999999, '01': 0.03078, '10': 0.007346666666666665, '11': 0.005273333333333332}\n"
     ]
    }
   ],
   "source": [
    "#for cc in sim_all_counts:\n",
    "#    print(cc['00']/shots,cc['10']/shots,cc['01']/shots,cc['11']/shots)\n",
    "\n",
    "real_prob_data = {}\n",
    "\n",
    "for numt in range(num_target):\n",
    "    probs = {'00':0,'01':0,'10':0,'11':0}\n",
    "    for rr in range(RR):\n",
    "        for outcome in probs.keys():\n",
    "            probs[outcome] += real_all_counts[numt*RR + rr][outcome[-1::-1]] / RR / shots\n",
    "    #real_prob_data.append(probs)\n",
    "    real_prob_data[initial_layout[numt+1]] = probs\n",
    "        \n",
    "    \n",
    "print(\"big-endian encoding\") # IBM qn ... q1 q0 => q0 q1 ... qn\n",
    "for qubit, freq in real_prob_data.items():\n",
    "    print(qubit, freq)"
   ]
  },
  {
   "cell_type": "markdown",
   "id": "e910611f-8710-4892-9fe8-722292e6ba22",
   "metadata": {},
   "source": [
    "### Backend Properties"
   ]
  },
  {
   "cell_type": "code",
   "execution_count": 5,
   "id": "2aaf66b9-95b7-405f-85a6-7f0fa62f77fe",
   "metadata": {},
   "outputs": [
    {
     "name": "stdout",
     "output_type": "stream",
     "text": [
      "Backend name: ibm_brisbane\n",
      "Last calibrated date: 2024-12-03 09:38:52+09:00\n",
      "========================================================================================\n",
      "qubit 62 | readout_error (%): 0.013700000000000045\n",
      "qubit 62 | id_error (%): 0.0002842175674138187\n",
      "qubit 62 | rz_error (%): 0\n",
      "qubit 62 | sx_error (%): 0.0002842175674138187\n",
      "qubit 62 | x_error (%): 0.0002842175674138187\n",
      "========================================================================================\n",
      "qubit 61 | readout_error (%): 0.0129999999999999\n",
      "qubit 61 | id_error (%): 0.0005341108776756973\n",
      "qubit 61 | rz_error (%): 0\n",
      "qubit 61 | sx_error (%): 0.0005341108776756973\n",
      "qubit 61 | x_error (%): 0.0005341108776756973\n",
      "qubits [62, 61] | ecr_error (%): 0.006853695366647483\n"
     ]
    }
   ],
   "source": [
    "print(\"Backend name:\", backend_prop['backend_name'])\n",
    "print(\"Last calibrated date:\", backend_prop['last_update_date'])\n",
    "for qq in range(num_target+1):\n",
    "    print(\"========================================================================================\")\n",
    "    print(\"qubit\",initial_layout[qq],\"| readout_error (%):\", backend_prop['qubits'][initial_layout[qq]][4]['value'])\n",
    "    print(\"qubit\",backend_prop['gates'][initial_layout[qq]]['qubits'][0],\"| id_error (%):\", backend_prop['gates'][initial_layout[qq]]['parameters'][0]['value'])\n",
    "    print(\"qubit\",backend_prop['gates'][initial_layout[qq]+127]['qubits'][0],\"| rz_error (%):\", backend_prop['gates'][initial_layout[qq]+127]['parameters'][0]['value'])\n",
    "    print(\"qubit\",backend_prop['gates'][initial_layout[qq]+127*2]['qubits'][0],\"| sx_error (%):\", backend_prop['gates'][initial_layout[qq]+127*2]['parameters'][0]['value'])\n",
    "    print(\"qubit\",backend_prop['gates'][initial_layout[qq]+127*2+127]['qubits'][0],\"| x_error (%):\", backend_prop['gates'][initial_layout[qq]+127*2+127]['parameters'][0]['value'])\n",
    "\n",
    "    if qq > 0:\n",
    "        for ecr_spec in backend_prop['gates'][127*4:]:\n",
    "            if (initial_layout[0] in ecr_spec['qubits']) and (initial_layout[qq] in ecr_spec['qubits']):\n",
    "                print(\"qubits\", ecr_spec['qubits'],\"| ecr_error (%):\",ecr_spec['parameters'][0]['value'])\n",
    "                \n",
    "        "
   ]
  },
  {
   "cell_type": "markdown",
   "id": "e87e5758-7d1b-49ff-b8a3-c1dd3f24ea73",
   "metadata": {},
   "source": [
    "## Solve equations to get error parameters\n",
    "\n",
    "The probabilities from measurement experiments can be seen as functions of three error parameters $f,q$ and $\\epsilon$. So, we can solve the series of equations for known probabilities $p(ij)$.\n",
    "\n",
    "$$p(00) = (1-\\epsilon)\\left[f^2 (1-q)^2 + (1-f)^2 q^2 + f(1-f)(1-q)q  + (1-f)^2 q(1-q) + (1-f)fq^2\\right] + \\epsilon/4 $$\n",
    "$$p(01) = (1-\\epsilon)\\left[f^2 (1-q)q + (1-f)^2 q^2 + f(1-f)(1-q)^2  + (1-f)^2 q^2 + (1-f)fq(1-q)\\right] + \\epsilon/4 $$\n",
    "$$p(10) = (1-\\epsilon)\\left[f^2 q(1-q) + (1-f)^2 (1-q)q + f(1-f)q^2  + (1-f)^2 (1-q)^2 + (1-f)f(1-q)q\\right] + \\epsilon/4 $$\n",
    "$$p(11) = (1-\\epsilon)\\left[f^2 q^2 + (1-f)^2 (1-q)^2 + f(1-f) q(1-q)  + (1-f)^2 (1-q)q + (1-f)f(1-q)^2\\right] + \\epsilon/4 $$"
   ]
  },
  {
   "cell_type": "code",
   "execution_count": 63,
   "id": "5e73cf3e-fe05-46f0-9e06-c90338acb061",
   "metadata": {},
   "outputs": [
    {
     "name": "stdout",
     "output_type": "stream",
     "text": [
      "61 {'00': 0.9835333333333335, '01': 0.005913333333333332, '10': 0.006973333333333332, '11': 0.003579999999999999}\n",
      "(1-f,q,e) = [ 0.00796449 -0.99449949  1.14254831]\n",
      "72 {'00': 0.9176600000000001, '01': 0.07110666666666667, '10': 0.0077800000000000005, '11': 0.003453333333333333}\n",
      "(1-f,q,e) = [ 0.01031037 -0.83577618  1.15734448]\n",
      "63 {'00': 0.9565999999999999, '01': 0.03078, '10': 0.007346666666666665, '11': 0.005273333333333332}\n",
      "(1-f,q,e) = [0.11398513 0.49085597 2.1982331 ]\n"
     ]
    }
   ],
   "source": [
    "from scipy.optimize import root\n",
    "\n",
    "def equations(X,P):\n",
    "    return [(1-X[2])*((X[0]**2)*(X[1]**2)+((1-X[0])**2)*((1-X[1])**2)+X[0]*(1-X[0])*X[1]*(1-X[1])+((1-X[0])**2)*(1-X[1])*X[1]+(1-X[0])*X[0]*((1-X[1])**2))+X[2]/4-P['11'],\n",
    "        (1-X[2])*((X[0]**2)*(1-X[1])*X[1]+((1-X[0])**2)*(1-X[1])*X[1]+X[0]*(1-X[0])*(X[1]**2)+((1-X[0])**2)*((1-X[1])**2)+(1-X[0])*X[0]*(1-X[1])*X[1])+X[2]/4-P['10'],\n",
    "        (1-X[2])*((X[0]**2)*(1-X[1])*X[1]+((1-X[0])**2)*(X[1]**2)+X[0]*(1-X[0])*((1-X[1])**2)+((1-X[0])**2)*(X[1]**2)+(1-X[0])*X[0]*(1-X[1])*X[1])+X[2]/4-P['01']]#,\n",
    "        #(1-X[2])*((X[0]**2)*((1-X[1])**2)+((1-X[0])**2)*(X[1]**2)+X[0]*(1-X[0])*(1-X[1])*X[1]+((1-X[0])**2)*X[1]*(1-X[1])+(1-X[0])*X[0]*(X[1]**2))+X[2]/4-P['00']]\n",
    "\n",
    "for qubit, freq in real_prob_data.items():\n",
    "    #probs = [freq['00'],freq['01'],freq['10'],freq['11']]\n",
    "    print(qubit, freq)\n",
    "    solution = root(equations, [0,0,0], args=freq)\n",
    "    print(\"(1-f,q,e) =\", solution.x)\n"
   ]
  },
  {
   "cell_type": "markdown",
   "id": "e9da8e20-f4c9-4297-8af1-50a2176e4f59",
   "metadata": {},
   "source": [
    "### Results from MATLAB.fsolve\n",
    "\n",
    "System qubit = 62,\n",
    "\n",
    "target qubit = 61: $(1-f,q,\\epsilon) = (-0.0011, 0.0024, 0.0185)$\n",
    "\n",
    "target qubit = 72: $(1-f,q,\\epsilon) = (0.0648, 0.0692, -0.3035)$\n",
    "\n",
    "target qubit = 63: $(1-f,q,\\epsilon) = (0.0240, 0.0262, -0.0805)$"
   ]
  }
 ],
 "metadata": {
  "kernelspec": {
   "display_name": "Python 3 (ipykernel)",
   "language": "python",
   "name": "python3"
  },
  "language_info": {
   "codemirror_mode": {
    "name": "ipython",
    "version": 3
   },
   "file_extension": ".py",
   "mimetype": "text/x-python",
   "name": "python",
   "nbconvert_exporter": "python",
   "pygments_lexer": "ipython3",
   "version": "3.11.9"
  }
 },
 "nbformat": 4,
 "nbformat_minor": 5
}
